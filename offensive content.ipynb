{
 "cells": [
  {
   "cell_type": "code",
   "execution_count": null,
   "id": "c1eb1f0b",
   "metadata": {},
   "outputs": [],
   "source": [
    "pip install profanity-check"
   ]
  },
  {
   "cell_type": "code",
   "execution_count": null,
   "id": "27984696",
   "metadata": {},
   "outputs": [],
   "source": [
    "pip install joblib"
   ]
  },
  {
   "cell_type": "code",
   "execution_count": null,
   "id": "952f88a0",
   "metadata": {},
   "outputs": [],
   "source": [
    "pip install better-profanity\n"
   ]
  },
  {
   "cell_type": "code",
   "execution_count": null,
   "id": "a1f03c40",
   "metadata": {},
   "outputs": [],
   "source": [
    "import better_profanity\n",
    "\n",
    "def check_offensive_content(text):\n",
    "    # Check for offensive words using the better-profanity library\n",
    "    return better_profanity.profanity.contains_profanity(text)\n",
    "\n",
    "# Example sentences\n",
    "sentences = [\n",
    "    \"I love this product!\",\n",
    "    \"This movie is really good.\",\n",
    "    \"I hate this restaurant!\",\n",
    "    \"The service was terrible.\",\n",
    "    \"That's a stupid idea.\",\n",
    "    \"You're an idiot.\",\n",
    "    \"fuck off\",\n",
    "    'what the fucking shit it is'\n",
    "]\n",
    "\n",
    "# Check for offensive content in each sentence\n",
    "for sentence in sentences:\n",
    "    is_offensive = check_offensive_content(sentence)\n",
    "    if is_offensive:\n",
    "        print(f\"'{sentence}' contains offensive content.\")\n",
    "    else:\n",
    "        print(f\"'{sentence}' is clean.\")\n"
   ]
  },
  {
   "cell_type": "code",
   "execution_count": null,
   "id": "9356a311",
   "metadata": {},
   "outputs": [],
   "source": []
  }
 ],
 "metadata": {
  "kernelspec": {
   "display_name": "Python 3 (ipykernel)",
   "language": "python",
   "name": "python3"
  },
  "language_info": {
   "codemirror_mode": {
    "name": "ipython",
    "version": 3
   },
   "file_extension": ".py",
   "mimetype": "text/x-python",
   "name": "python",
   "nbconvert_exporter": "python",
   "pygments_lexer": "ipython3",
   "version": "3.9.12"
  }
 },
 "nbformat": 4,
 "nbformat_minor": 5
}
