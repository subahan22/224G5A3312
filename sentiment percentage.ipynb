{
 "cells": [
  {
   "cell_type": "code",
   "execution_count": null,
   "id": "94db53dd",
   "metadata": {},
   "outputs": [],
   "source": [
    "import nltk\n",
    "from nltk.sentiment import SentimentIntensityAnalyzer\n",
    "\n",
    "# Download the VADER lexicon if not already downloaded\n",
    "# nltk.download('vader_lexicon')\n",
    "\n",
    "# Create an instance of the SentimentIntensityAnalyzer\n",
    "sid = SentimentIntensityAnalyzer()"
   ]
  },
  {
   "cell_type": "code",
   "execution_count": null,
   "id": "ccf07ae8",
   "metadata": {},
   "outputs": [],
   "source": [
    "def get_sentiment_percentage(sentence, sentiment):\n",
    "    sentiment_scores = sid.polarity_scores(sentence)\n",
    "    if sentiment == 'positive':\n",
    "        sentiment_score = sentiment_scores['pos']\n",
    "        sentiment_percentage = sentiment_score * 100\n",
    "        emoji=assign_emoji(sentiment_percentage)\n",
    "#         emoji = '😃'  # Positive emoji\n",
    "    elif sentiment == 'negative':\n",
    "        sentiment_score = sentiment_scores['neg']\n",
    "        sentiment_percentage = sentiment_score * 100\n",
    "        emoji=assign_emoji(100-31-sentiment_percentage)\n",
    "#         print(sentiment_percentage)\n",
    "#         emoji = '😔'  # Negative emoji\n",
    "    elif sentiment == 'neutral':\n",
    "        sentiment_score = sentiment_scores['neu']\n",
    "        sentiment_percentage = sentiment_score * 100\n",
    "        emoji=assign_emoji(50-11-sentiment_percentage)\n",
    "#         emoji = '😐'  # Neutral emoji\n",
    "    else:\n",
    "        raise ValueError(\"Invalid sentiment provided. Must be 'positive', 'negative', or 'neutral'.\")\n",
    "    sentiment_percentage = sentiment_score * 100\n",
    "    return f\"{emoji} {sentiment_percentage:.2f}%\""
   ]
  },
  {
   "cell_type": "code",
   "execution_count": null,
   "id": "3489453f",
   "metadata": {},
   "outputs": [],
   "source": [
    "# Function to assign emojis based on sentiment percentage\n",
    "def assign_emoji(sentiment_percentage):\n",
    "    if sentiment_percentage >= 70:\n",
    "        emoji = '😃'  # Very positive emoji\n",
    "    elif sentiment_percentage >= 40:\n",
    "        emoji = '🙂'  # Positive emoji\n",
    "    elif sentiment_percentage >= 10:\n",
    "        emoji = '😐'  # Neutral emoji\n",
    "    elif sentiment_percentage >= -30:\n",
    "        emoji = '😔'  # Negative emoji\n",
    "    else:\n",
    "        emoji = '😡'  # Very negative emoji\n",
    "    return emoji\n",
    "\n"
   ]
  },
  {
   "cell_type": "code",
   "execution_count": null,
   "id": "63f6b002",
   "metadata": {},
   "outputs": [],
   "source": [
    "sentences = [\n",
    "    \"I love this product, it's amazing!\",\n",
    "    \"The movie was good.\",\n",
    "    \"I don't like this restaurant.\",\n",
    "    \"It was a terrible experience.\",\n",
    "    \"This book is just okay.\",\n",
    "    \"The weather is nice today.\",\n",
    "    \"not bad\"\n",
    "]\n",
    "\n",
    "# Calculate sentiment percentages for each sentence\n",
    "for sentence in sentences:\n",
    "    print(\"Sentence:\", sentence)\n",
    "    print(\"Positive Sentiment Percentage:\", get_sentiment_percentage(sentence, 'positive'))\n",
    "    print(\"Negative Sentiment Percentage:\", get_sentiment_percentage(sentence, 'negative'))\n",
    "    print(\"Neutral Sentiment Percentage:\", get_sentiment_percentage(sentence, 'neutral'))\n",
    "    print()"
   ]
  },
  {
   "cell_type": "code",
   "execution_count": null,
   "id": "c59b0b61",
   "metadata": {},
   "outputs": [],
   "source": []
  }
 ],
 "metadata": {
  "kernelspec": {
   "display_name": "Python 3 (ipykernel)",
   "language": "python",
   "name": "python3"
  },
  "language_info": {
   "codemirror_mode": {
    "name": "ipython",
    "version": 3
   },
   "file_extension": ".py",
   "mimetype": "text/x-python",
   "name": "python",
   "nbconvert_exporter": "python",
   "pygments_lexer": "ipython3",
   "version": "3.9.12"
  }
 },
 "nbformat": 4,
 "nbformat_minor": 5
}
